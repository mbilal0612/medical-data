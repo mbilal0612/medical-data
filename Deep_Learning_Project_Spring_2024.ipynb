{
  "nbformat": 4,
  "nbformat_minor": 0,
  "metadata": {
    "colab": {
      "provenance": [],
      "collapsed_sections": [
        "x32tmH0st-Lt",
        "NEHpzcs_Rf8g"
      ],
      "gpuType": "T4"
    },
    "kernelspec": {
      "name": "python3",
      "display_name": "Python 3"
    },
    "language_info": {
      "name": "python"
    },
    "widgets": {
      "application/vnd.jupyter.widget-state+json": {
        "56d9be21052a4af49376dd99c6d740e7": {
          "model_module": "@jupyter-widgets/controls",
          "model_name": "HBoxModel",
          "model_module_version": "1.5.0",
          "state": {
            "_dom_classes": [],
            "_model_module": "@jupyter-widgets/controls",
            "_model_module_version": "1.5.0",
            "_model_name": "HBoxModel",
            "_view_count": null,
            "_view_module": "@jupyter-widgets/controls",
            "_view_module_version": "1.5.0",
            "_view_name": "HBoxView",
            "box_style": "",
            "children": [
              "IPY_MODEL_e801d13b2fc4424aad35a4a334baa88a",
              "IPY_MODEL_605070a8360a4f9bb44d73c3e19edb64",
              "IPY_MODEL_a29b09bfc9a14d3396c36edd6cb7ea06"
            ],
            "layout": "IPY_MODEL_1de4924d92e14b3fa0df750e48b6aeb4"
          }
        },
        "e801d13b2fc4424aad35a4a334baa88a": {
          "model_module": "@jupyter-widgets/controls",
          "model_name": "HTMLModel",
          "model_module_version": "1.5.0",
          "state": {
            "_dom_classes": [],
            "_model_module": "@jupyter-widgets/controls",
            "_model_module_version": "1.5.0",
            "_model_name": "HTMLModel",
            "_view_count": null,
            "_view_module": "@jupyter-widgets/controls",
            "_view_module_version": "1.5.0",
            "_view_name": "HTMLView",
            "description": "",
            "description_tooltip": null,
            "layout": "IPY_MODEL_09fa2587ecdb413496df001e2701fab5",
            "placeholder": "​",
            "style": "IPY_MODEL_1866e5f7b79e4a70932816cc287e7603",
            "value": "model.safetensors: 100%"
          }
        },
        "605070a8360a4f9bb44d73c3e19edb64": {
          "model_module": "@jupyter-widgets/controls",
          "model_name": "FloatProgressModel",
          "model_module_version": "1.5.0",
          "state": {
            "_dom_classes": [],
            "_model_module": "@jupyter-widgets/controls",
            "_model_module_version": "1.5.0",
            "_model_name": "FloatProgressModel",
            "_view_count": null,
            "_view_module": "@jupyter-widgets/controls",
            "_view_module_version": "1.5.0",
            "_view_name": "ProgressView",
            "bar_style": "success",
            "description": "",
            "description_tooltip": null,
            "layout": "IPY_MODEL_7d2e93958b7b43d8a8caaefaddfcabed",
            "max": 548105171,
            "min": 0,
            "orientation": "horizontal",
            "style": "IPY_MODEL_5e26463e7ef644cf9a3862fd1f88d2a4",
            "value": 548105171
          }
        },
        "a29b09bfc9a14d3396c36edd6cb7ea06": {
          "model_module": "@jupyter-widgets/controls",
          "model_name": "HTMLModel",
          "model_module_version": "1.5.0",
          "state": {
            "_dom_classes": [],
            "_model_module": "@jupyter-widgets/controls",
            "_model_module_version": "1.5.0",
            "_model_name": "HTMLModel",
            "_view_count": null,
            "_view_module": "@jupyter-widgets/controls",
            "_view_module_version": "1.5.0",
            "_view_name": "HTMLView",
            "description": "",
            "description_tooltip": null,
            "layout": "IPY_MODEL_dc5863853db843298a12164719c6d826",
            "placeholder": "​",
            "style": "IPY_MODEL_0babd43ce7904a92b5fd965c0b300137",
            "value": " 548M/548M [00:03&lt;00:00, 173MB/s]"
          }
        },
        "1de4924d92e14b3fa0df750e48b6aeb4": {
          "model_module": "@jupyter-widgets/base",
          "model_name": "LayoutModel",
          "model_module_version": "1.2.0",
          "state": {
            "_model_module": "@jupyter-widgets/base",
            "_model_module_version": "1.2.0",
            "_model_name": "LayoutModel",
            "_view_count": null,
            "_view_module": "@jupyter-widgets/base",
            "_view_module_version": "1.2.0",
            "_view_name": "LayoutView",
            "align_content": null,
            "align_items": null,
            "align_self": null,
            "border": null,
            "bottom": null,
            "display": null,
            "flex": null,
            "flex_flow": null,
            "grid_area": null,
            "grid_auto_columns": null,
            "grid_auto_flow": null,
            "grid_auto_rows": null,
            "grid_column": null,
            "grid_gap": null,
            "grid_row": null,
            "grid_template_areas": null,
            "grid_template_columns": null,
            "grid_template_rows": null,
            "height": null,
            "justify_content": null,
            "justify_items": null,
            "left": null,
            "margin": null,
            "max_height": null,
            "max_width": null,
            "min_height": null,
            "min_width": null,
            "object_fit": null,
            "object_position": null,
            "order": null,
            "overflow": null,
            "overflow_x": null,
            "overflow_y": null,
            "padding": null,
            "right": null,
            "top": null,
            "visibility": null,
            "width": null
          }
        },
        "09fa2587ecdb413496df001e2701fab5": {
          "model_module": "@jupyter-widgets/base",
          "model_name": "LayoutModel",
          "model_module_version": "1.2.0",
          "state": {
            "_model_module": "@jupyter-widgets/base",
            "_model_module_version": "1.2.0",
            "_model_name": "LayoutModel",
            "_view_count": null,
            "_view_module": "@jupyter-widgets/base",
            "_view_module_version": "1.2.0",
            "_view_name": "LayoutView",
            "align_content": null,
            "align_items": null,
            "align_self": null,
            "border": null,
            "bottom": null,
            "display": null,
            "flex": null,
            "flex_flow": null,
            "grid_area": null,
            "grid_auto_columns": null,
            "grid_auto_flow": null,
            "grid_auto_rows": null,
            "grid_column": null,
            "grid_gap": null,
            "grid_row": null,
            "grid_template_areas": null,
            "grid_template_columns": null,
            "grid_template_rows": null,
            "height": null,
            "justify_content": null,
            "justify_items": null,
            "left": null,
            "margin": null,
            "max_height": null,
            "max_width": null,
            "min_height": null,
            "min_width": null,
            "object_fit": null,
            "object_position": null,
            "order": null,
            "overflow": null,
            "overflow_x": null,
            "overflow_y": null,
            "padding": null,
            "right": null,
            "top": null,
            "visibility": null,
            "width": null
          }
        },
        "1866e5f7b79e4a70932816cc287e7603": {
          "model_module": "@jupyter-widgets/controls",
          "model_name": "DescriptionStyleModel",
          "model_module_version": "1.5.0",
          "state": {
            "_model_module": "@jupyter-widgets/controls",
            "_model_module_version": "1.5.0",
            "_model_name": "DescriptionStyleModel",
            "_view_count": null,
            "_view_module": "@jupyter-widgets/base",
            "_view_module_version": "1.2.0",
            "_view_name": "StyleView",
            "description_width": ""
          }
        },
        "7d2e93958b7b43d8a8caaefaddfcabed": {
          "model_module": "@jupyter-widgets/base",
          "model_name": "LayoutModel",
          "model_module_version": "1.2.0",
          "state": {
            "_model_module": "@jupyter-widgets/base",
            "_model_module_version": "1.2.0",
            "_model_name": "LayoutModel",
            "_view_count": null,
            "_view_module": "@jupyter-widgets/base",
            "_view_module_version": "1.2.0",
            "_view_name": "LayoutView",
            "align_content": null,
            "align_items": null,
            "align_self": null,
            "border": null,
            "bottom": null,
            "display": null,
            "flex": null,
            "flex_flow": null,
            "grid_area": null,
            "grid_auto_columns": null,
            "grid_auto_flow": null,
            "grid_auto_rows": null,
            "grid_column": null,
            "grid_gap": null,
            "grid_row": null,
            "grid_template_areas": null,
            "grid_template_columns": null,
            "grid_template_rows": null,
            "height": null,
            "justify_content": null,
            "justify_items": null,
            "left": null,
            "margin": null,
            "max_height": null,
            "max_width": null,
            "min_height": null,
            "min_width": null,
            "object_fit": null,
            "object_position": null,
            "order": null,
            "overflow": null,
            "overflow_x": null,
            "overflow_y": null,
            "padding": null,
            "right": null,
            "top": null,
            "visibility": null,
            "width": null
          }
        },
        "5e26463e7ef644cf9a3862fd1f88d2a4": {
          "model_module": "@jupyter-widgets/controls",
          "model_name": "ProgressStyleModel",
          "model_module_version": "1.5.0",
          "state": {
            "_model_module": "@jupyter-widgets/controls",
            "_model_module_version": "1.5.0",
            "_model_name": "ProgressStyleModel",
            "_view_count": null,
            "_view_module": "@jupyter-widgets/base",
            "_view_module_version": "1.2.0",
            "_view_name": "StyleView",
            "bar_color": null,
            "description_width": ""
          }
        },
        "dc5863853db843298a12164719c6d826": {
          "model_module": "@jupyter-widgets/base",
          "model_name": "LayoutModel",
          "model_module_version": "1.2.0",
          "state": {
            "_model_module": "@jupyter-widgets/base",
            "_model_module_version": "1.2.0",
            "_model_name": "LayoutModel",
            "_view_count": null,
            "_view_module": "@jupyter-widgets/base",
            "_view_module_version": "1.2.0",
            "_view_name": "LayoutView",
            "align_content": null,
            "align_items": null,
            "align_self": null,
            "border": null,
            "bottom": null,
            "display": null,
            "flex": null,
            "flex_flow": null,
            "grid_area": null,
            "grid_auto_columns": null,
            "grid_auto_flow": null,
            "grid_auto_rows": null,
            "grid_column": null,
            "grid_gap": null,
            "grid_row": null,
            "grid_template_areas": null,
            "grid_template_columns": null,
            "grid_template_rows": null,
            "height": null,
            "justify_content": null,
            "justify_items": null,
            "left": null,
            "margin": null,
            "max_height": null,
            "max_width": null,
            "min_height": null,
            "min_width": null,
            "object_fit": null,
            "object_position": null,
            "order": null,
            "overflow": null,
            "overflow_x": null,
            "overflow_y": null,
            "padding": null,
            "right": null,
            "top": null,
            "visibility": null,
            "width": null
          }
        },
        "0babd43ce7904a92b5fd965c0b300137": {
          "model_module": "@jupyter-widgets/controls",
          "model_name": "DescriptionStyleModel",
          "model_module_version": "1.5.0",
          "state": {
            "_model_module": "@jupyter-widgets/controls",
            "_model_module_version": "1.5.0",
            "_model_name": "DescriptionStyleModel",
            "_view_count": null,
            "_view_module": "@jupyter-widgets/base",
            "_view_module_version": "1.2.0",
            "_view_name": "StyleView",
            "description_width": ""
          }
        },
        "13d1986f882f42019dab168664383769": {
          "model_module": "@jupyter-widgets/controls",
          "model_name": "HBoxModel",
          "model_module_version": "1.5.0",
          "state": {
            "_dom_classes": [],
            "_model_module": "@jupyter-widgets/controls",
            "_model_module_version": "1.5.0",
            "_model_name": "HBoxModel",
            "_view_count": null,
            "_view_module": "@jupyter-widgets/controls",
            "_view_module_version": "1.5.0",
            "_view_name": "HBoxView",
            "box_style": "",
            "children": [
              "IPY_MODEL_ab69eb6b87c74f7da2fd7c85764e025d",
              "IPY_MODEL_41be67ab036c489bae04231da4df803b",
              "IPY_MODEL_77b66eb810b94035bff695b758afe5e5"
            ],
            "layout": "IPY_MODEL_b275adb59b90497ab20da0ba5524c24c"
          }
        },
        "ab69eb6b87c74f7da2fd7c85764e025d": {
          "model_module": "@jupyter-widgets/controls",
          "model_name": "HTMLModel",
          "model_module_version": "1.5.0",
          "state": {
            "_dom_classes": [],
            "_model_module": "@jupyter-widgets/controls",
            "_model_module_version": "1.5.0",
            "_model_name": "HTMLModel",
            "_view_count": null,
            "_view_module": "@jupyter-widgets/controls",
            "_view_module_version": "1.5.0",
            "_view_name": "HTMLView",
            "description": "",
            "description_tooltip": null,
            "layout": "IPY_MODEL_c69d561713ac446eacf4eafb3df1943e",
            "placeholder": "​",
            "style": "IPY_MODEL_407b32411fd54b648d09b71a53adbdce",
            "value": "generation_config.json: 100%"
          }
        },
        "41be67ab036c489bae04231da4df803b": {
          "model_module": "@jupyter-widgets/controls",
          "model_name": "FloatProgressModel",
          "model_module_version": "1.5.0",
          "state": {
            "_dom_classes": [],
            "_model_module": "@jupyter-widgets/controls",
            "_model_module_version": "1.5.0",
            "_model_name": "FloatProgressModel",
            "_view_count": null,
            "_view_module": "@jupyter-widgets/controls",
            "_view_module_version": "1.5.0",
            "_view_name": "ProgressView",
            "bar_style": "success",
            "description": "",
            "description_tooltip": null,
            "layout": "IPY_MODEL_2960308ceed64e51823d9b1896dc3978",
            "max": 124,
            "min": 0,
            "orientation": "horizontal",
            "style": "IPY_MODEL_84501de40cae4e5d9f980cd41ad67dc7",
            "value": 124
          }
        },
        "77b66eb810b94035bff695b758afe5e5": {
          "model_module": "@jupyter-widgets/controls",
          "model_name": "HTMLModel",
          "model_module_version": "1.5.0",
          "state": {
            "_dom_classes": [],
            "_model_module": "@jupyter-widgets/controls",
            "_model_module_version": "1.5.0",
            "_model_name": "HTMLModel",
            "_view_count": null,
            "_view_module": "@jupyter-widgets/controls",
            "_view_module_version": "1.5.0",
            "_view_name": "HTMLView",
            "description": "",
            "description_tooltip": null,
            "layout": "IPY_MODEL_93258e281c4d4183895ac9780f72884a",
            "placeholder": "​",
            "style": "IPY_MODEL_0bb1e35c9e43453389b2a458f155fb7e",
            "value": " 124/124 [00:00&lt;00:00, 6.86kB/s]"
          }
        },
        "b275adb59b90497ab20da0ba5524c24c": {
          "model_module": "@jupyter-widgets/base",
          "model_name": "LayoutModel",
          "model_module_version": "1.2.0",
          "state": {
            "_model_module": "@jupyter-widgets/base",
            "_model_module_version": "1.2.0",
            "_model_name": "LayoutModel",
            "_view_count": null,
            "_view_module": "@jupyter-widgets/base",
            "_view_module_version": "1.2.0",
            "_view_name": "LayoutView",
            "align_content": null,
            "align_items": null,
            "align_self": null,
            "border": null,
            "bottom": null,
            "display": null,
            "flex": null,
            "flex_flow": null,
            "grid_area": null,
            "grid_auto_columns": null,
            "grid_auto_flow": null,
            "grid_auto_rows": null,
            "grid_column": null,
            "grid_gap": null,
            "grid_row": null,
            "grid_template_areas": null,
            "grid_template_columns": null,
            "grid_template_rows": null,
            "height": null,
            "justify_content": null,
            "justify_items": null,
            "left": null,
            "margin": null,
            "max_height": null,
            "max_width": null,
            "min_height": null,
            "min_width": null,
            "object_fit": null,
            "object_position": null,
            "order": null,
            "overflow": null,
            "overflow_x": null,
            "overflow_y": null,
            "padding": null,
            "right": null,
            "top": null,
            "visibility": null,
            "width": null
          }
        },
        "c69d561713ac446eacf4eafb3df1943e": {
          "model_module": "@jupyter-widgets/base",
          "model_name": "LayoutModel",
          "model_module_version": "1.2.0",
          "state": {
            "_model_module": "@jupyter-widgets/base",
            "_model_module_version": "1.2.0",
            "_model_name": "LayoutModel",
            "_view_count": null,
            "_view_module": "@jupyter-widgets/base",
            "_view_module_version": "1.2.0",
            "_view_name": "LayoutView",
            "align_content": null,
            "align_items": null,
            "align_self": null,
            "border": null,
            "bottom": null,
            "display": null,
            "flex": null,
            "flex_flow": null,
            "grid_area": null,
            "grid_auto_columns": null,
            "grid_auto_flow": null,
            "grid_auto_rows": null,
            "grid_column": null,
            "grid_gap": null,
            "grid_row": null,
            "grid_template_areas": null,
            "grid_template_columns": null,
            "grid_template_rows": null,
            "height": null,
            "justify_content": null,
            "justify_items": null,
            "left": null,
            "margin": null,
            "max_height": null,
            "max_width": null,
            "min_height": null,
            "min_width": null,
            "object_fit": null,
            "object_position": null,
            "order": null,
            "overflow": null,
            "overflow_x": null,
            "overflow_y": null,
            "padding": null,
            "right": null,
            "top": null,
            "visibility": null,
            "width": null
          }
        },
        "407b32411fd54b648d09b71a53adbdce": {
          "model_module": "@jupyter-widgets/controls",
          "model_name": "DescriptionStyleModel",
          "model_module_version": "1.5.0",
          "state": {
            "_model_module": "@jupyter-widgets/controls",
            "_model_module_version": "1.5.0",
            "_model_name": "DescriptionStyleModel",
            "_view_count": null,
            "_view_module": "@jupyter-widgets/base",
            "_view_module_version": "1.2.0",
            "_view_name": "StyleView",
            "description_width": ""
          }
        },
        "2960308ceed64e51823d9b1896dc3978": {
          "model_module": "@jupyter-widgets/base",
          "model_name": "LayoutModel",
          "model_module_version": "1.2.0",
          "state": {
            "_model_module": "@jupyter-widgets/base",
            "_model_module_version": "1.2.0",
            "_model_name": "LayoutModel",
            "_view_count": null,
            "_view_module": "@jupyter-widgets/base",
            "_view_module_version": "1.2.0",
            "_view_name": "LayoutView",
            "align_content": null,
            "align_items": null,
            "align_self": null,
            "border": null,
            "bottom": null,
            "display": null,
            "flex": null,
            "flex_flow": null,
            "grid_area": null,
            "grid_auto_columns": null,
            "grid_auto_flow": null,
            "grid_auto_rows": null,
            "grid_column": null,
            "grid_gap": null,
            "grid_row": null,
            "grid_template_areas": null,
            "grid_template_columns": null,
            "grid_template_rows": null,
            "height": null,
            "justify_content": null,
            "justify_items": null,
            "left": null,
            "margin": null,
            "max_height": null,
            "max_width": null,
            "min_height": null,
            "min_width": null,
            "object_fit": null,
            "object_position": null,
            "order": null,
            "overflow": null,
            "overflow_x": null,
            "overflow_y": null,
            "padding": null,
            "right": null,
            "top": null,
            "visibility": null,
            "width": null
          }
        },
        "84501de40cae4e5d9f980cd41ad67dc7": {
          "model_module": "@jupyter-widgets/controls",
          "model_name": "ProgressStyleModel",
          "model_module_version": "1.5.0",
          "state": {
            "_model_module": "@jupyter-widgets/controls",
            "_model_module_version": "1.5.0",
            "_model_name": "ProgressStyleModel",
            "_view_count": null,
            "_view_module": "@jupyter-widgets/base",
            "_view_module_version": "1.2.0",
            "_view_name": "StyleView",
            "bar_color": null,
            "description_width": ""
          }
        },
        "93258e281c4d4183895ac9780f72884a": {
          "model_module": "@jupyter-widgets/base",
          "model_name": "LayoutModel",
          "model_module_version": "1.2.0",
          "state": {
            "_model_module": "@jupyter-widgets/base",
            "_model_module_version": "1.2.0",
            "_model_name": "LayoutModel",
            "_view_count": null,
            "_view_module": "@jupyter-widgets/base",
            "_view_module_version": "1.2.0",
            "_view_name": "LayoutView",
            "align_content": null,
            "align_items": null,
            "align_self": null,
            "border": null,
            "bottom": null,
            "display": null,
            "flex": null,
            "flex_flow": null,
            "grid_area": null,
            "grid_auto_columns": null,
            "grid_auto_flow": null,
            "grid_auto_rows": null,
            "grid_column": null,
            "grid_gap": null,
            "grid_row": null,
            "grid_template_areas": null,
            "grid_template_columns": null,
            "grid_template_rows": null,
            "height": null,
            "justify_content": null,
            "justify_items": null,
            "left": null,
            "margin": null,
            "max_height": null,
            "max_width": null,
            "min_height": null,
            "min_width": null,
            "object_fit": null,
            "object_position": null,
            "order": null,
            "overflow": null,
            "overflow_x": null,
            "overflow_y": null,
            "padding": null,
            "right": null,
            "top": null,
            "visibility": null,
            "width": null
          }
        },
        "0bb1e35c9e43453389b2a458f155fb7e": {
          "model_module": "@jupyter-widgets/controls",
          "model_name": "DescriptionStyleModel",
          "model_module_version": "1.5.0",
          "state": {
            "_model_module": "@jupyter-widgets/controls",
            "_model_module_version": "1.5.0",
            "_model_name": "DescriptionStyleModel",
            "_view_count": null,
            "_view_module": "@jupyter-widgets/base",
            "_view_module_version": "1.2.0",
            "_view_name": "StyleView",
            "description_width": ""
          }
        }
      }
    },
    "accelerator": "GPU"
  },
  "cells": [
    {
      "cell_type": "code",
      "source": [
        "!pip install opacus"
      ],
      "metadata": {
        "colab": {
          "base_uri": "https://localhost:8080/"
        },
        "id": "D7N7x1gxsMGj",
        "outputId": "16d1259e-ea41-412a-eeca-fd8f496a6961",
        "collapsed": true
      },
      "execution_count": null,
      "outputs": [
        {
          "output_type": "stream",
          "name": "stdout",
          "text": [
            "Requirement already satisfied: opacus in /usr/local/lib/python3.10/dist-packages (1.4.1)\n",
            "Requirement already satisfied: numpy>=1.15 in /usr/local/lib/python3.10/dist-packages (from opacus) (1.25.2)\n",
            "Requirement already satisfied: torch>=2.0 in /usr/local/lib/python3.10/dist-packages (from opacus) (2.3.0+cu121)\n",
            "Requirement already satisfied: scipy>=1.2 in /usr/local/lib/python3.10/dist-packages (from opacus) (1.11.4)\n",
            "Requirement already satisfied: opt-einsum>=3.3.0 in /usr/local/lib/python3.10/dist-packages (from opacus) (3.3.0)\n",
            "Requirement already satisfied: filelock in /usr/local/lib/python3.10/dist-packages (from torch>=2.0->opacus) (3.14.0)\n",
            "Requirement already satisfied: typing-extensions>=4.8.0 in /usr/local/lib/python3.10/dist-packages (from torch>=2.0->opacus) (4.11.0)\n",
            "Requirement already satisfied: sympy in /usr/local/lib/python3.10/dist-packages (from torch>=2.0->opacus) (1.12)\n",
            "Requirement already satisfied: networkx in /usr/local/lib/python3.10/dist-packages (from torch>=2.0->opacus) (3.3)\n",
            "Requirement already satisfied: jinja2 in /usr/local/lib/python3.10/dist-packages (from torch>=2.0->opacus) (3.1.4)\n",
            "Requirement already satisfied: fsspec in /usr/local/lib/python3.10/dist-packages (from torch>=2.0->opacus) (2023.6.0)\n",
            "Requirement already satisfied: nvidia-cuda-nvrtc-cu12==12.1.105 in /usr/local/lib/python3.10/dist-packages (from torch>=2.0->opacus) (12.1.105)\n",
            "Requirement already satisfied: nvidia-cuda-runtime-cu12==12.1.105 in /usr/local/lib/python3.10/dist-packages (from torch>=2.0->opacus) (12.1.105)\n",
            "Requirement already satisfied: nvidia-cuda-cupti-cu12==12.1.105 in /usr/local/lib/python3.10/dist-packages (from torch>=2.0->opacus) (12.1.105)\n",
            "Requirement already satisfied: nvidia-cudnn-cu12==8.9.2.26 in /usr/local/lib/python3.10/dist-packages (from torch>=2.0->opacus) (8.9.2.26)\n",
            "Requirement already satisfied: nvidia-cublas-cu12==12.1.3.1 in /usr/local/lib/python3.10/dist-packages (from torch>=2.0->opacus) (12.1.3.1)\n",
            "Requirement already satisfied: nvidia-cufft-cu12==11.0.2.54 in /usr/local/lib/python3.10/dist-packages (from torch>=2.0->opacus) (11.0.2.54)\n",
            "Requirement already satisfied: nvidia-curand-cu12==10.3.2.106 in /usr/local/lib/python3.10/dist-packages (from torch>=2.0->opacus) (10.3.2.106)\n",
            "Requirement already satisfied: nvidia-cusolver-cu12==11.4.5.107 in /usr/local/lib/python3.10/dist-packages (from torch>=2.0->opacus) (11.4.5.107)\n",
            "Requirement already satisfied: nvidia-cusparse-cu12==12.1.0.106 in /usr/local/lib/python3.10/dist-packages (from torch>=2.0->opacus) (12.1.0.106)\n",
            "Requirement already satisfied: nvidia-nccl-cu12==2.20.5 in /usr/local/lib/python3.10/dist-packages (from torch>=2.0->opacus) (2.20.5)\n",
            "Requirement already satisfied: nvidia-nvtx-cu12==12.1.105 in /usr/local/lib/python3.10/dist-packages (from torch>=2.0->opacus) (12.1.105)\n",
            "Requirement already satisfied: triton==2.3.0 in /usr/local/lib/python3.10/dist-packages (from torch>=2.0->opacus) (2.3.0)\n",
            "Requirement already satisfied: nvidia-nvjitlink-cu12 in /usr/local/lib/python3.10/dist-packages (from nvidia-cusolver-cu12==11.4.5.107->torch>=2.0->opacus) (12.5.40)\n",
            "Requirement already satisfied: MarkupSafe>=2.0 in /usr/local/lib/python3.10/dist-packages (from jinja2->torch>=2.0->opacus) (2.1.5)\n",
            "Requirement already satisfied: mpmath>=0.19 in /usr/local/lib/python3.10/dist-packages (from sympy->torch>=2.0->opacus) (1.3.0)\n"
          ]
        }
      ]
    },
    {
      "cell_type": "code",
      "source": [
        "!wget \"https://raw.githubusercontent.com/mbilal0612/medical-data/main/medical_data.txt\""
      ],
      "metadata": {
        "colab": {
          "base_uri": "https://localhost:8080/"
        },
        "id": "8uBhaHpRZj5A",
        "outputId": "6b20d9b3-5ba0-46c4-c4d7-2902f5ac9262"
      },
      "execution_count": null,
      "outputs": [
        {
          "output_type": "stream",
          "name": "stdout",
          "text": [
            "--2024-05-28 11:55:35--  https://raw.githubusercontent.com/mbilal0612/medical-data/main/medical_data.txt\n",
            "Resolving raw.githubusercontent.com (raw.githubusercontent.com)... 185.199.108.133, 185.199.109.133, 185.199.111.133, ...\n",
            "Connecting to raw.githubusercontent.com (raw.githubusercontent.com)|185.199.108.133|:443... connected.\n",
            "HTTP request sent, awaiting response... 200 OK\n",
            "Length: 37395 (37K) [text/plain]\n",
            "Saving to: ‘medical_data.txt’\n",
            "\n",
            "medical_data.txt    100%[===================>]  36.52K  --.-KB/s    in 0.02s   \n",
            "\n",
            "2024-05-28 11:55:35 (2.35 MB/s) - ‘medical_data.txt’ saved [37395/37395]\n",
            "\n"
          ]
        }
      ]
    },
    {
      "cell_type": "code",
      "source": [
        "import json\n",
        "!git clone https://github.com/mbilal0612/medical-data.git"
      ],
      "metadata": {
        "colab": {
          "base_uri": "https://localhost:8080/"
        },
        "id": "uM7T-7lksaV4",
        "outputId": "d299216e-ce77-4cc9-aa41-e19a20ffc3d2"
      },
      "execution_count": null,
      "outputs": [
        {
          "output_type": "stream",
          "name": "stdout",
          "text": [
            "Cloning into 'medical-data'...\n",
            "remote: Enumerating objects: 10, done.\u001b[K\n",
            "remote: Counting objects: 100% (10/10), done.\u001b[K\n",
            "remote: Compressing objects: 100% (7/7), done.\u001b[K\n",
            "remote: Total 10 (delta 1), reused 10 (delta 1), pack-reused 0\u001b[K\n",
            "Receiving objects: 100% (10/10), 5.82 MiB | 8.38 MiB/s, done.\n",
            "Resolving deltas: 100% (1/1), done.\n"
          ]
        }
      ]
    },
    {
      "cell_type": "code",
      "source": [
        "\n",
        "# Read data from the input JSON file\n",
        "with open('medical-data/sources/medical_dataset_train.json', 'r') as file:\n",
        "    data = json.load(file)\n",
        "\n",
        "input_data = [entry['input'] + '\\n'  + '\\n'  + entry['answer_chatdoctor'] +'\\n' +'\\n'    for entry in data]\n",
        "\n",
        "# Write the combined data to a new JSON file\n",
        "with open('medical_data2.txt', 'w') as file:\n",
        "    file.writelines(input_data)\n",
        "\n",
        "print(\"Data has been combined and written to 'medical_data2.txt'\")\n"
      ],
      "metadata": {
        "colab": {
          "base_uri": "https://localhost:8080/"
        },
        "id": "fDYohzmssfCT",
        "outputId": "a6efe666-5037-4ff2-ff12-abc0af2816c0"
      },
      "execution_count": null,
      "outputs": [
        {
          "output_type": "stream",
          "name": "stdout",
          "text": [
            "Data has been combined and written to 'medical_data2.txt'\n"
          ]
        }
      ]
    },
    {
      "cell_type": "code",
      "source": [
        "# Read data from the input JSON file\n",
        "with open('medical-data/sources/medical_dataset_train.json', 'r') as file:\n",
        "    data = json.load(file)\n",
        "\n",
        "input_data = [entry['input'] + '\\n'  + entry['answer_chatdoctor'] +'\\n' + '---'  +'\\n' for entry in data]\n",
        "\n",
        "# Write the combined data to a new JSON file\n",
        "with open('medical_data_text.txt', 'w') as file:\n",
        "    file.writelines(input_data)\n",
        "\n",
        "print(\"Data has been combined and written to 'medical_data2.txt'\")"
      ],
      "metadata": {
        "colab": {
          "base_uri": "https://localhost:8080/"
        },
        "id": "OuX4ISnT9aN0",
        "outputId": "937e2b13-e2ac-4653-d36b-c933d3318a91"
      },
      "execution_count": null,
      "outputs": [
        {
          "output_type": "stream",
          "name": "stdout",
          "text": [
            "Data has been combined and written to 'medical_data2.txt'\n"
          ]
        }
      ]
    },
    {
      "cell_type": "markdown",
      "source": [
        "# Imports"
      ],
      "metadata": {
        "id": "o9UG99j_Pvuk"
      }
    },
    {
      "cell_type": "code",
      "source": [
        "import torch\n",
        "from torch.utils.data import Dataset, DataLoader\n",
        "from transformers import GPT2Tokenizer, GPT2LMHeadModel, AdamW, get_linear_schedule_with_warmup\n",
        "\n",
        "from opacus import PrivacyEngine\n",
        "from opacus.utils.batch_memory_manager import BatchMemoryManager\n",
        "from opacus.data_loader import DPDataLoader\n",
        "from opacus.accountants import RDPAccountant\n"
      ],
      "metadata": {
        "id": "8fp4qtDkPuxu"
      },
      "execution_count": null,
      "outputs": []
    },
    {
      "cell_type": "markdown",
      "source": [
        "# TextDataset class\n",
        "#### use to process the dataset\n"
      ],
      "metadata": {
        "id": "6cVGaY72PzoN"
      }
    },
    {
      "cell_type": "code",
      "source": [
        "\n",
        "import torch\n",
        "from torch.utils.data import Dataset\n",
        "\n",
        "class TextDataset(Dataset):\n",
        "    def __init__(self, file_path, tokenizer, block_size=512):\n",
        "        self.tokenizer = tokenizer\n",
        "        self.block_size = min(block_size, tokenizer.model_max_length)  # Ensure block size does not exceed model's max length\n",
        "        self.examples = []\n",
        "\n",
        "        with open(file_path, 'r', encoding='utf-8') as f:\n",
        "            current_chunk = []\n",
        "            for line in f:\n",
        "                if line.strip() == '---':\n",
        "                    if current_chunk:  # Only tokenize and add non-empty chunks\n",
        "                        tokenized_chunk = tokenizer.encode(' '.join(current_chunk))\n",
        "                        for i in range(0, len(tokenized_chunk), self.block_size):\n",
        "                            self.examples.append(tokenized_chunk[i:i + self.block_size])  # Append tokenized chunks\n",
        "                    current_chunk = []  # Reset chunk\n",
        "                else:\n",
        "                    current_chunk.append(line.strip())\n",
        "\n",
        "            # Tokenize and add the last chunk\n",
        "            if current_chunk:\n",
        "                tokenized_chunk = tokenizer.encode(' '.join(current_chunk))\n",
        "                for i in range(0, len(tokenized_chunk), self.block_size):\n",
        "                    self.examples.append(tokenized_chunk[i:i + self.block_size])\n",
        "\n",
        "    def __len__(self):\n",
        "        return len(self.examples)\n",
        "\n",
        "    def __getitem__(self, i):\n",
        "        # Convert the list to a tensor\n",
        "        sequence_tensor = torch.tensor(self.examples[i], dtype=torch.long)\n",
        "        # Pad sequences to the same length\n",
        "        padded_sequence = torch.nn.functional.pad(sequence_tensor, (0, self.block_size - len(self.examples[i])), value=self.tokenizer.pad_token_id)\n",
        "        return padded_sequence\n",
        "\n",
        "# class TextDataset(Dataset):\n",
        "#     def __init__(self, file_path, tokenizer, block_size=512):\n",
        "#         self.tokenizer = tokenizer\n",
        "#         self.block_size = min(block_size, tokenizer.model_max_length)  # Ensure block size does not exceed model's max length\n",
        "#         self.examples = []\n",
        "\n",
        "#         with open(file_path, 'r', encoding='utf-8') as f:\n",
        "#             current_chunk = []\n",
        "#             for line in f:\n",
        "#                 if line.strip() == '---':\n",
        "#                     if current_chunk:  # Only tokenize and add non-empty chunks\n",
        "#                         tokenized_chunk = tokenizer.encode(' '.join(current_chunk))\n",
        "#                         for i in range(0, len(tokenized_chunk), self.block_size):\n",
        "#                             self.examples.append(tokenized_chunk[i:i + self.block_size])  # Append tokenized chunks\n",
        "#                     current_chunk = []  # Reset chunk\n",
        "#                 else:\n",
        "#                     current_chunk.append(line.strip())\n",
        "\n",
        "#             # Tokenize and add the last chunk\n",
        "#             if current_chunk:\n",
        "#                 tokenized_chunk = tokenizer.encode(' '.join(current_chunk))\n",
        "#                 for i in range(0, len(tokenized_chunk), self.block_size):\n",
        "#                     self.examples.append(tokenized_chunk[i:i + self.block_size])\n",
        "\n",
        "#     def __len__(self):\n",
        "#         return len(self.examples)\n",
        "\n",
        "#     def __getitem__(self, i):\n",
        "#         # Pad sequences to the same length\n",
        "#         padded_sequence = torch.nn.functional.pad(self.examples[i], (0, self.block_size - len(self.examples[i])), value=self.tokenizer.pad_token_id)\n",
        "#         return padded_sequence\n",
        "\n",
        "\n",
        "\n",
        "# class TextDataset(Dataset):\n",
        "#     def __init__(self, file_path, tokenizer, block_size=512):\n",
        "#         self.tokenizer = tokenizer\n",
        "#         self.block_size = min(block_size, tokenizer.model_max_length)  # Ensure block size does not exceed model's max length\n",
        "#         self.examples = []\n",
        "\n",
        "#         with open(file_path, 'r', encoding='utf-8') as f:\n",
        "#             current_chunk = []\n",
        "#             for line in f:\n",
        "#                 if line.strip() == '---':\n",
        "#                     if current_chunk:  # Only tokenize and add non-empty chunks\n",
        "#                         tokenized_chunk = tokenizer.encode(' '.join(current_chunk))\n",
        "#                         for i in range(0, len(tokenized_chunk), self.block_size):\n",
        "#                             self.examples.append(tokenized_chunk[i:i + self.block_size])  # Append tokenized chunks\n",
        "#                     current_chunk = []  # Reset chunk\n",
        "#                 else:\n",
        "#                     current_chunk.append(line.strip())\n",
        "\n",
        "#             # Tokenize and add the last chunk\n",
        "#             if current_chunk:\n",
        "#                 tokenized_chunk = tokenizer.encode(' '.join(current_chunk))\n",
        "#                 for i in range(0, len(tokenized_chunk), self.block_size):\n",
        "#                     self.examples.append(tokenized_chunk[i:i + self.block_size])\n",
        "\n",
        "#     def __len__(self):\n",
        "#         return len(self.examples)\n",
        "\n",
        "#     def __getitem__(self, i):\n",
        "#         return torch.tensor(self.examples[i], dtype=torch.long)"
      ],
      "metadata": {
        "id": "PjFUN0iAQK7s"
      },
      "execution_count": null,
      "outputs": []
    },
    {
      "cell_type": "markdown",
      "source": [
        "# Upload medical_data.txt to session storage before running the next cell"
      ],
      "metadata": {
        "id": "x32tmH0st-Lt"
      }
    },
    {
      "cell_type": "code",
      "execution_count": null,
      "metadata": {
        "colab": {
          "base_uri": "https://localhost:8080/",
          "height": 292,
          "referenced_widgets": [
            "56d9be21052a4af49376dd99c6d740e7",
            "e801d13b2fc4424aad35a4a334baa88a",
            "605070a8360a4f9bb44d73c3e19edb64",
            "a29b09bfc9a14d3396c36edd6cb7ea06",
            "1de4924d92e14b3fa0df750e48b6aeb4",
            "09fa2587ecdb413496df001e2701fab5",
            "1866e5f7b79e4a70932816cc287e7603",
            "7d2e93958b7b43d8a8caaefaddfcabed",
            "5e26463e7ef644cf9a3862fd1f88d2a4",
            "dc5863853db843298a12164719c6d826",
            "0babd43ce7904a92b5fd965c0b300137",
            "13d1986f882f42019dab168664383769",
            "ab69eb6b87c74f7da2fd7c85764e025d",
            "41be67ab036c489bae04231da4df803b",
            "77b66eb810b94035bff695b758afe5e5",
            "b275adb59b90497ab20da0ba5524c24c",
            "c69d561713ac446eacf4eafb3df1943e",
            "407b32411fd54b648d09b71a53adbdce",
            "2960308ceed64e51823d9b1896dc3978",
            "84501de40cae4e5d9f980cd41ad67dc7",
            "93258e281c4d4183895ac9780f72884a",
            "0bb1e35c9e43453389b2a458f155fb7e"
          ]
        },
        "id": "iQw0Kzw3rf5m",
        "outputId": "95447bc3-9e32-441b-f76d-2d7544877c1b"
      },
      "outputs": [
        {
          "output_type": "stream",
          "name": "stderr",
          "text": [
            "Token indices sequence length is longer than the specified maximum sequence length for this model (9906 > 1024). Running this sequence through the model will result in indexing errors\n"
          ]
        },
        {
          "output_type": "display_data",
          "data": {
            "text/plain": [
              "model.safetensors:   0%|          | 0.00/548M [00:00<?, ?B/s]"
            ],
            "application/vnd.jupyter.widget-view+json": {
              "version_major": 2,
              "version_minor": 0,
              "model_id": "56d9be21052a4af49376dd99c6d740e7"
            }
          },
          "metadata": {}
        },
        {
          "output_type": "display_data",
          "data": {
            "text/plain": [
              "generation_config.json:   0%|          | 0.00/124 [00:00<?, ?B/s]"
            ],
            "application/vnd.jupyter.widget-view+json": {
              "version_major": 2,
              "version_minor": 0,
              "model_id": "13d1986f882f42019dab168664383769"
            }
          },
          "metadata": {}
        },
        {
          "output_type": "error",
          "ename": "TypeError",
          "evalue": "PrivacyEngine.__init__() got an unexpected keyword argument 'sample_rate'",
          "traceback": [
            "\u001b[0;31m---------------------------------------------------------------------------\u001b[0m",
            "\u001b[0;31mTypeError\u001b[0m                                 Traceback (most recent call last)",
            "\u001b[0;32m<ipython-input-4-5a0327295ce7>\u001b[0m in \u001b[0;36m<cell line: 55>\u001b[0;34m()\u001b[0m\n\u001b[1;32m     53\u001b[0m \u001b[0;34m\u001b[0m\u001b[0m\n\u001b[1;32m     54\u001b[0m \u001b[0;31m# Privacy engine\u001b[0m\u001b[0;34m\u001b[0m\u001b[0;34m\u001b[0m\u001b[0m\n\u001b[0;32m---> 55\u001b[0;31m privacy_engine = PrivacyEngine(\n\u001b[0m\u001b[1;32m     56\u001b[0m     \u001b[0mmodel\u001b[0m\u001b[0;34m,\u001b[0m\u001b[0;34m\u001b[0m\u001b[0;34m\u001b[0m\u001b[0m\n\u001b[1;32m     57\u001b[0m     \u001b[0msample_rate\u001b[0m\u001b[0;34m=\u001b[0m\u001b[0msample_rate\u001b[0m\u001b[0;34m,\u001b[0m\u001b[0;34m\u001b[0m\u001b[0;34m\u001b[0m\u001b[0m\n",
            "\u001b[0;31mTypeError\u001b[0m: PrivacyEngine.__init__() got an unexpected keyword argument 'sample_rate'"
          ]
        }
      ],
      "source": [
        "# Dataset class\n",
        "# class TextDataset(Dataset):\n",
        "#     def __init__(self, file_path, tokenizer, block_size=512):\n",
        "#         self.tokenizer = tokenizer\n",
        "#         self.block_size = block_size\n",
        "#         self.examples = []\n",
        "\n",
        "#         with open(file_path, 'r', encoding='utf-8') as f:\n",
        "#             text = f.read()\n",
        "\n",
        "#         tokenized_text = tokenizer.encode(text)\n",
        "#         for i in range(0, len(tokenized_text) - block_size + 1, block_size):\n",
        "#             self.examples.append(tokenized_text[i:i + block_size])\n",
        "\n",
        "#     def __len__(self):\n",
        "#         return len(self.examples)\n",
        "\n",
        "#     def __getitem__(self, i):\n",
        "#         return torch.tensor(self.examples[i])\n",
        "\n",
        "# Initialize the tokenizer\n",
        "tokenizer = GPT2Tokenizer.from_pretrained('gpt2')\n",
        "\n",
        "# Create the dataset\n",
        "dataset = TextDataset('medical_data.txt', tokenizer)\n",
        "dataloader = DataLoader(dataset, batch_size=4, shuffle=True)\n",
        "\n",
        "# Initialize the model\n",
        "model = GPT2LMHeadModel.from_pretrained('gpt2')\n",
        "\n",
        "# Move the model to the GPU if available\n",
        "device = torch.device(\"cuda\" if torch.cuda.is_available() else \"cpu\")\n",
        "model.to(device)\n",
        "\n",
        "# Training parameters\n",
        "epochs = 3\n",
        "learning_rate = 5e-5\n",
        "max_grad_norm = 1.0\n",
        "sigma = 1.0\n",
        "sample_rate = 0.01\n",
        "\n",
        "# Optimizer and learning rate scheduler\n",
        "optimizer = torch.optim.AdamW(model.parameters(), lr=learning_rate)\n",
        "scheduler = get_linear_schedule_with_warmup(optimizer, num_warmup_steps=100, num_training_steps=len(dataloader) * epochs)\n",
        "\n",
        "# Privacy engine\n",
        "privacy_engine = PrivacyEngine(\n",
        "    model,\n",
        "    sample_rate=sample_rate,\n",
        "    noise_multiplier=sigma,\n",
        "    max_grad_norm=max_grad_norm,\n",
        "    accountant=\"rdp\"\n",
        ")\n",
        "privacy_engine.attach(optimizer)\n",
        "\n",
        "# Training loop with differential privacy\n",
        "model.train()\n",
        "\n",
        "for epoch in range(epochs):\n",
        "    for batch in dataloader:\n",
        "        batch = batch.to(device)\n",
        "\n",
        "        optimizer.zero_grad()\n",
        "        outputs = model(batch, labels=batch)\n",
        "        loss = outputs.loss\n",
        "\n",
        "        loss.backward()\n",
        "        optimizer.step()\n",
        "        scheduler.step()\n",
        "\n",
        "        print(f\"Epoch: {epoch}, Loss: {loss.item()}\")\n",
        "\n",
        "print(\"Training complete.\")\n"
      ]
    },
    {
      "cell_type": "markdown",
      "source": [
        "# **Without Differential Privacy**"
      ],
      "metadata": {
        "id": "7LgBUF3fDd_s"
      }
    },
    {
      "cell_type": "code",
      "source": [
        "tokenizer = GPT2Tokenizer.from_pretrained('gpt2')\n",
        "\n",
        "# Create the dataset\n",
        "dataset = TextDataset('medical_data_text.txt', tokenizer)\n",
        "dataloader = DataLoader(dataset, batch_size=4, shuffle=True)\n",
        "\n",
        "# Initialize the model\n",
        "model = GPT2LMHeadModel.from_pretrained('gpt2')\n",
        "\n",
        "# Move the model to the GPU if available\n",
        "device = torch.device(\"cuda\" if torch.cuda.is_available() else \"cpu\")\n",
        "model.to(device)\n",
        "\n",
        "# Training parameters\n",
        "epochs = 3\n",
        "learning_rate = 5e-4\n",
        "warmup_steps = 100\n",
        "\n",
        "# Optimizer and learning rate scheduler\n",
        "optimizer = AdamW(model.parameters(), lr=learning_rate)\n",
        "scheduler = get_linear_schedule_with_warmup(optimizer, num_warmup_steps=warmup_steps, num_training_steps=len(dataloader) * epochs)\n",
        "\n",
        "# Training loop\n",
        "model.train()\n",
        "\n",
        "# for epoch in range(epochs):\n",
        "#     for batch in dataloader:\n",
        "#         # Tokenize sequences with the same tokenizer settings\n",
        "#         tokenized_batch = [tokenizer.encode(seq) for seq in batch]\n",
        "\n",
        "#         # Pad sequences in the batch\n",
        "#         padded_batch = pad_sequence(tokenized_batch, batch_first=True, padding_value=tokenizer.pad_token_id).to(device)\n",
        "\n",
        "#         outputs = model(padded_batch, labels=padded_batch)\n",
        "#         loss = outputs.loss\n",
        "\n",
        "#         optimizer.zero_grad()\n",
        "#         loss.backward()\n",
        "#         optimizer.step()\n",
        "#         scheduler.step()\n",
        "\n",
        "#         print(f\"Epoch: {epoch}, Loss: {loss.item()}\")\n",
        "\n",
        "# print(\"Training complete.\")\n",
        "\n",
        "for epoch in range(epochs):\n",
        "    for batch in dataloader:\n",
        "        batch = batch.to(device)\n",
        "        outputs = model(batch, labels=batch)\n",
        "        loss = outputs.loss\n",
        "\n",
        "        optimizer.zero_grad()\n",
        "        loss.backward()\n",
        "        optimizer.step()\n",
        "        scheduler.step()\n",
        "\n",
        "        print(f\"Epoch: {epoch}, Loss: {loss.item()}\")\n",
        "\n",
        "print(\"Training complete.\")\n",
        "\n",
        "# Save the trained model and tokenizer\n",
        "output_model_dir = 'trained_models/non_private_medical_gpt/'  # Specify your desired directory to save the trained model and tokenizer\n",
        "\n",
        "model.save_pretrained(output_model_dir)\n",
        "tokenizer.save_pretrained(output_model_dir)\n",
        "\n",
        "print(\"Model and tokenizer saved.\")\n"
      ],
      "metadata": {
        "id": "0kUOqovAsDY9",
        "colab": {
          "base_uri": "https://localhost:8080/",
          "height": 211
        },
        "collapsed": true,
        "outputId": "94b08e20-051d-42f9-e54d-d02862942924"
      },
      "execution_count": null,
      "outputs": [
        {
          "output_type": "error",
          "ename": "NameError",
          "evalue": "name 'GPT2Tokenizer' is not defined",
          "traceback": [
            "\u001b[0;31m---------------------------------------------------------------------------\u001b[0m",
            "\u001b[0;31mNameError\u001b[0m                                 Traceback (most recent call last)",
            "\u001b[0;32m<ipython-input-1-88f6c0b21a7a>\u001b[0m in \u001b[0;36m<cell line: 1>\u001b[0;34m()\u001b[0m\n\u001b[0;32m----> 1\u001b[0;31m \u001b[0mtokenizer\u001b[0m \u001b[0;34m=\u001b[0m \u001b[0mGPT2Tokenizer\u001b[0m\u001b[0;34m.\u001b[0m\u001b[0mfrom_pretrained\u001b[0m\u001b[0;34m(\u001b[0m\u001b[0;34m'gpt2'\u001b[0m\u001b[0;34m)\u001b[0m\u001b[0;34m\u001b[0m\u001b[0;34m\u001b[0m\u001b[0m\n\u001b[0m\u001b[1;32m      2\u001b[0m \u001b[0;34m\u001b[0m\u001b[0m\n\u001b[1;32m      3\u001b[0m \u001b[0;31m# Create the dataset\u001b[0m\u001b[0;34m\u001b[0m\u001b[0;34m\u001b[0m\u001b[0m\n\u001b[1;32m      4\u001b[0m \u001b[0mdataset\u001b[0m \u001b[0;34m=\u001b[0m \u001b[0mTextDataset\u001b[0m\u001b[0;34m(\u001b[0m\u001b[0;34m'medical_data_text.txt'\u001b[0m\u001b[0;34m,\u001b[0m \u001b[0mtokenizer\u001b[0m\u001b[0;34m)\u001b[0m\u001b[0;34m\u001b[0m\u001b[0;34m\u001b[0m\u001b[0m\n\u001b[1;32m      5\u001b[0m \u001b[0mdataloader\u001b[0m \u001b[0;34m=\u001b[0m \u001b[0mDataLoader\u001b[0m\u001b[0;34m(\u001b[0m\u001b[0mdataset\u001b[0m\u001b[0;34m,\u001b[0m \u001b[0mbatch_size\u001b[0m\u001b[0;34m=\u001b[0m\u001b[0;36m4\u001b[0m\u001b[0;34m,\u001b[0m \u001b[0mshuffle\u001b[0m\u001b[0;34m=\u001b[0m\u001b[0;32mTrue\u001b[0m\u001b[0;34m)\u001b[0m\u001b[0;34m\u001b[0m\u001b[0;34m\u001b[0m\u001b[0m\n",
            "\u001b[0;31mNameError\u001b[0m: name 'GPT2Tokenizer' is not defined"
          ]
        }
      ]
    },
    {
      "cell_type": "markdown",
      "source": [
        "# Getting a response the model\n",
        "\n"
      ],
      "metadata": {
        "id": "NEHpzcs_Rf8g"
      }
    },
    {
      "cell_type": "code",
      "source": [
        "import torch\n",
        "from transformers import GPT2Tokenizer, GPT2LMHeadModel\n",
        "\n",
        "# Load the trained tokenizer and model\n",
        "tokenizer = GPT2Tokenizer.from_pretrained('trained_models/non_private_medical_gpt/')\n",
        "model = GPT2LMHeadModel.from_pretrained('trained_models/non_private_medical_gpt/')\n",
        "\n",
        "num_params = sum(p.numel() for p in model.parameters() if p.requires_grad)\n",
        "\n",
        "print(f\"Number of parameters in the model: {num_params/10**6}M\")\n",
        "\n",
        "# Set the device (CPU or GPU)\n",
        "device = torch.device(\"cuda\" if torch.cuda.is_available() else \"cpu\")\n",
        "model.to(device)\n",
        "\n",
        "# Provide context (including your question)\n",
        "context = \"\"\"\n",
        "I have a fever and a runny nose.\n",
        "\"\"\"\n",
        "\n",
        "# Tokenize the context\n",
        "input_ids = tokenizer.encode(context, return_tensors='pt').to(device)\n",
        "\n",
        "# Generate text based on the context\n",
        "output = model.generate(input_ids, max_length=75, num_return_sequences=1, pad_token_id=tokenizer.eos_token_id)\n",
        "\n",
        "# Decode the output tokens back into text\n",
        "response = tokenizer.decode(output[0], skip_special_tokens=True)\n",
        "\n",
        "print(\"Model's Response:\")\n",
        "print(response)"
      ],
      "metadata": {
        "colab": {
          "base_uri": "https://localhost:8080/"
        },
        "id": "Tn91W9ujZ2vy",
        "outputId": "c9a47437-535c-4139-da42-d2ee22ba5e48"
      },
      "execution_count": null,
      "outputs": [
        {
          "output_type": "stream",
          "name": "stdout",
          "text": [
            "Number of parameters in the model: 124.439808M\n",
            "Model's Response:\n",
            "\n",
            "I have a fever and a runny nose.\n",
            " Disease: Celiac Disease **Symptoms:** Diarrhea, bloating, gas, fatigue, weight loss, anemia.  Good afternoon. What brings you in today?  I've been having a lot of digestive issues like diarrhea and bloating.  That sounds uncomfortable. Do you also experience gas\n"
          ]
        }
      ]
    },
    {
      "cell_type": "markdown",
      "source": [
        "# Dialogue Dataset\n",
        "\n",
        "##### So after just throwing data at the problem now we'll do some better data preprocessing so that the transformer learns better and is able to differentiate patient from"
      ],
      "metadata": {
        "id": "PWlFhMO52z4l"
      }
    },
    {
      "cell_type": "code",
      "source": [
        "from torch.utils.data import Dataset\n",
        "\n",
        "class DialogueDataset(Dataset):\n",
        "    def __init__(self, file_path, tokenizer, max_length=512):\n",
        "        self.tokenizer = tokenizer\n",
        "        self.max_length = max_length\n",
        "        self.dialogues = []\n",
        "        with open(file_path, 'r', encoding='utf-8') as f:\n",
        "            dialogue = []\n",
        "            for line in f:\n",
        "                line = line.strip()\n",
        "                if line:\n",
        "                    dialogue.append(line)\n",
        "                else:\n",
        "                    if len(dialogue) == 2:  # Ensure each dialogue has exactly two utterances (doctor and patient)\n",
        "                        # Tokenize doctor and patient utterances\n",
        "                        tokenized_doctor = self.tokenizer.encode(dialogue[0], add_special_tokens=False)\n",
        "                        tokenized_patient = self.tokenizer.encode(dialogue[1], add_special_tokens=False)\n",
        "\n",
        "                        # Check if tokenization was successful\n",
        "                        if tokenized_doctor is not None and tokenized_patient is not None:\n",
        "                            # Combine tokens and add special tokens\n",
        "                            input_ids = [self.tokenizer.cls_token_id] + tokenized_doctor + [self.tokenizer.sep_token_id] + tokenized_patient + [self.tokenizer.sep_token_id]\n",
        "\n",
        "                            # Truncate or pad input sequence to max_length\n",
        "                            input_ids = input_ids[:self.max_length]\n",
        "                            padding_length = self.max_length - len(input_ids)\n",
        "                            input_ids += [self.tokenizer.pad_token_id] * padding_length\n",
        "\n",
        "                            attention_mask = [1] * len(input_ids)\n",
        "\n",
        "                            self.dialogues.append({\n",
        "                                'input_ids': torch.tensor(input_ids),\n",
        "                                'attention_mask': torch.tensor(attention_mask)\n",
        "                            })\n",
        "\n",
        "                        dialogue = []  # Reset dialogue for the next pair\n",
        "\n",
        "    def __len__(self):\n",
        "        return len(self.dialogues)\n",
        "\n",
        "    def __getitem__(self, idx):\n",
        "        return self.dialogues[idx]\n"
      ],
      "metadata": {
        "id": "KWbEaPWG4N1H"
      },
      "execution_count": null,
      "outputs": []
    },
    {
      "cell_type": "code",
      "source": [
        "# Initialize the tokenizer and model\n",
        "tokenizer = GPT2Tokenizer.from_pretrained('gpt2')\n",
        "model = GPT2LMHeadModel.from_pretrained('gpt2')\n",
        "\n",
        "# Move the model to the GPU if available\n",
        "device = torch.device(\"cuda\" if torch.cuda.is_available() else \"cpu\")\n",
        "model.to(device)\n",
        "\n",
        "# Create the dataset\n",
        "dataset = DialogueDataset('medical_data2.txt', tokenizer)\n",
        "\n",
        "# Create the data loader\n",
        "dataloader = DataLoader(dataset, batch_size=4, shuffle=True)\n",
        "\n",
        "# Training parameters\n",
        "epochs = 120\n",
        "learning_rate = 5e-4\n",
        "warmup_steps = 100\n",
        "\n",
        "# Optimizer and learning rate scheduler\n",
        "optimizer = AdamW(model.parameters(), lr=learning_rate)\n",
        "scheduler = get_linear_schedule_with_warmup(optimizer, num_warmup_steps=warmup_steps, num_training_steps=len(dataloader) * epochs)\n",
        "\n",
        "# Training loop\n",
        "model.train()\n",
        "\n",
        "for epoch in range(epochs):\n",
        "    for batch in dataloader:\n",
        "        input_ids = batch['input_ids'].to(device)\n",
        "        attention_mask = batch['attention_mask'].to(device)\n",
        "\n",
        "        outputs = model(input_ids=input_ids, attention_mask=attention_mask, labels=input_ids)\n",
        "        loss = outputs.loss\n",
        "\n",
        "        optimizer.zero_grad()\n",
        "        loss.backward()\n",
        "        optimizer.step()\n",
        "        scheduler.step()\n",
        "\n",
        "        print(f\"Epoch: {epoch}, Loss: {loss.item()}\")\n",
        "\n",
        "print(\"Training complete.\")\n",
        "\n",
        "# Save the trained model and tokenizer\n",
        "output_model_dir = 'trained_models/doctor_patient_gpt/'\n",
        "model.save_pretrained(output_model_dir)\n",
        "tokenizer.save_pretrained(output_model_dir)\n",
        "\n",
        "print(\"Model and tokenizer saved.\")"
      ],
      "metadata": {
        "colab": {
          "base_uri": "https://localhost:8080/",
          "height": 332
        },
        "id": "rhwBXyv04oBl",
        "outputId": "241baa70-3dbf-4669-e877-950373d3b8dc"
      },
      "execution_count": null,
      "outputs": [
        {
          "output_type": "error",
          "ename": "RuntimeError",
          "evalue": "Could not infer dtype of NoneType",
          "traceback": [
            "\u001b[0;31m---------------------------------------------------------------------------\u001b[0m",
            "\u001b[0;31mRuntimeError\u001b[0m                              Traceback (most recent call last)",
            "\u001b[0;32m<ipython-input-71-593417e7cb25>\u001b[0m in \u001b[0;36m<cell line: 10>\u001b[0;34m()\u001b[0m\n\u001b[1;32m      8\u001b[0m \u001b[0;34m\u001b[0m\u001b[0m\n\u001b[1;32m      9\u001b[0m \u001b[0;31m# Create the dataset\u001b[0m\u001b[0;34m\u001b[0m\u001b[0;34m\u001b[0m\u001b[0m\n\u001b[0;32m---> 10\u001b[0;31m \u001b[0mdataset\u001b[0m \u001b[0;34m=\u001b[0m \u001b[0mDialogueDataset\u001b[0m\u001b[0;34m(\u001b[0m\u001b[0;34m'medical_data_text.txt'\u001b[0m\u001b[0;34m,\u001b[0m \u001b[0mtokenizer\u001b[0m\u001b[0;34m)\u001b[0m\u001b[0;34m\u001b[0m\u001b[0;34m\u001b[0m\u001b[0m\n\u001b[0m\u001b[1;32m     11\u001b[0m \u001b[0;34m\u001b[0m\u001b[0m\n\u001b[1;32m     12\u001b[0m \u001b[0;31m# Create the data loader\u001b[0m\u001b[0;34m\u001b[0m\u001b[0;34m\u001b[0m\u001b[0m\n",
            "\u001b[0;32m<ipython-input-67-139279c7f1a7>\u001b[0m in \u001b[0;36m__init__\u001b[0;34m(self, file_path, tokenizer, max_length)\u001b[0m\n\u001b[1;32m     31\u001b[0m \u001b[0;34m\u001b[0m\u001b[0m\n\u001b[1;32m     32\u001b[0m                             self.dialogues.append({\n\u001b[0;32m---> 33\u001b[0;31m                                 \u001b[0;34m'input_ids'\u001b[0m\u001b[0;34m:\u001b[0m \u001b[0mtorch\u001b[0m\u001b[0;34m.\u001b[0m\u001b[0mtensor\u001b[0m\u001b[0;34m(\u001b[0m\u001b[0minput_ids\u001b[0m\u001b[0;34m)\u001b[0m\u001b[0;34m,\u001b[0m\u001b[0;34m\u001b[0m\u001b[0;34m\u001b[0m\u001b[0m\n\u001b[0m\u001b[1;32m     34\u001b[0m                                 \u001b[0;34m'attention_mask'\u001b[0m\u001b[0;34m:\u001b[0m \u001b[0mtorch\u001b[0m\u001b[0;34m.\u001b[0m\u001b[0mtensor\u001b[0m\u001b[0;34m(\u001b[0m\u001b[0mattention_mask\u001b[0m\u001b[0;34m)\u001b[0m\u001b[0;34m\u001b[0m\u001b[0;34m\u001b[0m\u001b[0m\n\u001b[1;32m     35\u001b[0m                             })\n",
            "\u001b[0;31mRuntimeError\u001b[0m: Could not infer dtype of NoneType"
          ]
        }
      ]
    }
  ]
}